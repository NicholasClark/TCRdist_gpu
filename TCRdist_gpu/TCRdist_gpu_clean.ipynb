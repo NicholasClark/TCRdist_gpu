{
 "cells": [
  {
   "cell_type": "code",
   "execution_count": 1,
   "id": "66349d26-c609-4076-87c7-d46026f6377e",
   "metadata": {},
   "outputs": [
    {
     "name": "stdout",
     "output_type": "stream",
     "text": [
      "Checking for available GPU...\n",
      "\n",
      "Apple Silicon GPU detected:\n",
      "Apple Silicon GPU (M1/M2/M3)\n",
      "Checking for GPU-related Python modules...\n",
      "\n",
      "'mlx' is installed (for Apple Silicon GPUs).\n",
      "Loading mlx to perform TCRdist\n"
     ]
    }
   ],
   "source": [
    "from TCRdist_gpu import *"
   ]
  },
  {
   "cell_type": "code",
   "execution_count": 1,
   "id": "12fe6680",
   "metadata": {},
   "outputs": [
    {
     "name": "stdout",
     "output_type": "stream",
     "text": [
      "Checking for available GPU...\n",
      "\n",
      "Apple Silicon GPU detected:\n",
      "Apple Silicon GPU (M1/M2/M3)\n",
      "Checking for GPU-related Python modules...\n",
      "\n",
      "'mlx' is installed (for Apple Silicon GPUs).\n",
      "Loading mlx to perform TCRdist\n",
      "total number of chunks (rows): 2\n",
      "total number of chunks (cols): 2\n",
      "Processing chunk (rows) 0\n",
      "Processing chunk (rows) 20000\n",
      "Time taken: 69.894025 seconds\n"
     ]
    }
   ],
   "source": [
    "from TCRdist_gpu import *\n",
    "tcr_both = pd.read_parquet(os.path.join(\"data\", \"vdj_and_covid_032425.parquet\"))\n",
    "tcr1 = tcr_both[:40000]\n",
    "tcr2 = tcr_both[:40000]\n",
    "params_df, _ = load_params_file()\n",
    "#submat = np.loadtxt(os.path.join(\"data\", 'TCRdist_matrix_mega.tsv'), delimiter='\\t', dtype=np.int16)\n",
    "submat = load_substitution_matrix()\n",
    "chunk_n = 20000\n",
    "res = TCRdist_batch(tcr1=tcr1, tcr2 = tcr2, submat = submat, params_df = params_df, tcrdist_cutoff=90,chunk_size=chunk_n, print_chunk_size=chunk_n, print_res = True, only_lower_tri = True)\n",
    "#chunk_n = 1000\n",
    "#res = TCRdist_batch(tcr1, tcr2, submat = submat, tcrdist_cutoff=90, output = \"edge_list\", chunk_size=chunk_n, print_chunk_size=chunk_n, print_res = True)"
   ]
  },
  {
   "cell_type": "code",
   "execution_count": 2,
   "id": "7f5e9d02",
   "metadata": {},
   "outputs": [
    {
     "data": {
      "text/plain": [
       "<bound method NDFrame.head of         edge1_0index  edge2_0index  TCRdist\n",
       "0                  5             4       87\n",
       "1                  7             4        3\n",
       "2                  7             5       90\n",
       "3                 12             4       15\n",
       "4                 12             5       78\n",
       "...              ...           ...      ...\n",
       "102965         39182         39180       84\n",
       "102966         39319         38093       75\n",
       "102967         39360         38187       33\n",
       "102968         39564         38921       48\n",
       "102969         39933         39434       54\n",
       "\n",
       "[102970 rows x 3 columns]>"
      ]
     },
     "execution_count": 2,
     "metadata": {},
     "output_type": "execute_result"
    }
   ],
   "source": [
    "res['TCRdist_df'].head"
   ]
  },
  {
   "cell_type": "code",
   "execution_count": null,
   "id": "2db5e001",
   "metadata": {},
   "outputs": [
    {
     "name": "stdout",
     "output_type": "stream",
     "text": [
      "(5000, 7)\n",
      "(771341, 7)\n",
      "total number of chunks (rows): 5\n",
      "total number of chunks (cols): 771\n",
      "Processing chunk (rows) 0\n",
      "Processing chunk (rows) 1000\n",
      "Processing chunk (rows) 2000\n",
      "Processing chunk (rows) 3000\n",
      "Processing chunk (rows) 4000\n",
      "Time taken: 24.248896 seconds\n"
     ]
    }
   ],
   "source": [
    "#### testing speeds (current batching script)\n",
    "from TCRdist_gpu import *\n",
    "tcr_both = pd.read_parquet(os.path.join(\"data\", \"vdj_and_covid_032425.parquet\"))\n",
    "tcr1 = tcr_both[:40000]\n",
    "print(tcr1.shape)\n",
    "tcr2 = tcr_both\n",
    "print(tcr2.shape)\n",
    "params_df, _ = load_params_file()\n",
    "#submat = np.loadtxt(os.path.join(\"data\", 'TCRdist_matrix_mega.tsv'), delimiter='\\t', dtype=np.int16)\n",
    "submat = load_substitution_matrix()\n",
    "chunk_n = 1000\n",
    "chunk_col = 1000\n",
    "res = TCRdist_batch(tcr1 = tcr1, tcr2 = tcr2, submat = submat, params_df = params_df, tcrdist_cutoff=90,chunk_size=chunk_n,\n",
    "                    chunk_size_col = chunk_col,\n",
    "                    print_chunk_size=chunk_n, print_res = True, only_lower_tri = False)\n",
    "#chunk_n = 1000\n",
    "#res = TCRdist_batch(tcr1, tcr2, submat = submat, tcrdist_cutoff=90, output = \"edge_list\", chunk_size=chunk_n, print_chunk_size=chunk_n, print_res = True)"
   ]
  },
  {
   "cell_type": "code",
   "execution_count": 1,
   "id": "838e0a52",
   "metadata": {},
   "outputs": [
    {
     "name": "stdout",
     "output_type": "stream",
     "text": [
      "Checking for available GPU...\n",
      "\n",
      "Apple Silicon GPU detected:\n",
      "Apple Silicon GPU (M1/M2/M3)\n",
      "Checking for GPU-related Python modules...\n",
      "\n",
      "'mlx' is installed (for Apple Silicon GPUs).\n",
      "Loading mlx to perform TCRdist\n",
      "(771341, 7)\n",
      "total number of chunks (rows): 40\n",
      "Processing chunk (rows) 0\n",
      "Processing chunk (rows) 100\n",
      "Processing chunk (rows) 200\n",
      "Processing chunk (rows) 300\n",
      "Processing chunk (rows) 400\n",
      "Processing chunk (rows) 500\n",
      "Processing chunk (rows) 600\n",
      "Processing chunk (rows) 700\n",
      "Processing chunk (rows) 800\n",
      "Processing chunk (rows) 900\n",
      "Processing chunk (rows) 1000\n",
      "Processing chunk (rows) 1100\n",
      "Processing chunk (rows) 1200\n",
      "Processing chunk (rows) 1300\n",
      "Processing chunk (rows) 1400\n",
      "Processing chunk (rows) 1500\n",
      "Processing chunk (rows) 1600\n",
      "Processing chunk (rows) 1700\n",
      "Processing chunk (rows) 1800\n",
      "Processing chunk (rows) 1900\n",
      "Processing chunk (rows) 2000\n"
     ]
    },
    {
     "ename": "KeyboardInterrupt",
     "evalue": "",
     "output_type": "error",
     "traceback": [
      "\u001b[31m---------------------------------------------------------------------------\u001b[39m",
      "\u001b[31mKeyboardInterrupt\u001b[39m                         Traceback (most recent call last)",
      "\u001b[36mCell\u001b[39m\u001b[36m \u001b[39m\u001b[32mIn[1]\u001b[39m\u001b[32m, line 11\u001b[39m\n\u001b[32m      9\u001b[39m submat = load_substitution_matrix()\n\u001b[32m     10\u001b[39m chunk_n = \u001b[32m100\u001b[39m\n\u001b[32m---> \u001b[39m\u001b[32m11\u001b[39m res = \u001b[43mTCRdist_batch2\u001b[49m\u001b[43m(\u001b[49m\u001b[43mtcr1\u001b[49m\u001b[43m \u001b[49m\u001b[43m=\u001b[49m\u001b[43m \u001b[49m\u001b[43mtcr1\u001b[49m\u001b[43m,\u001b[49m\u001b[43m \u001b[49m\u001b[43mtcr2\u001b[49m\u001b[43m \u001b[49m\u001b[43m=\u001b[49m\u001b[43m \u001b[49m\u001b[43mtcr2\u001b[49m\u001b[43m,\u001b[49m\u001b[43m \u001b[49m\u001b[43msubmat\u001b[49m\u001b[43m \u001b[49m\u001b[43m=\u001b[49m\u001b[43m \u001b[49m\u001b[43msubmat\u001b[49m\u001b[43m,\u001b[49m\u001b[43m \u001b[49m\u001b[43mparams_df\u001b[49m\u001b[43m \u001b[49m\u001b[43m=\u001b[49m\u001b[43m \u001b[49m\u001b[43mparams_df\u001b[49m\u001b[43m,\u001b[49m\u001b[43m \u001b[49m\u001b[43mtcrdist_cutoff\u001b[49m\u001b[43m=\u001b[49m\u001b[32;43m90\u001b[39;49m\u001b[43m,\u001b[49m\u001b[43mchunk_size\u001b[49m\u001b[43m=\u001b[49m\u001b[43mchunk_n\u001b[49m\u001b[43m,\u001b[49m\u001b[43m \u001b[49m\u001b[43mprint_chunk_size\u001b[49m\u001b[43m=\u001b[49m\u001b[43mchunk_n\u001b[49m\u001b[43m,\u001b[49m\u001b[43m \u001b[49m\u001b[43mprint_res\u001b[49m\u001b[43m \u001b[49m\u001b[43m=\u001b[49m\u001b[43m \u001b[49m\u001b[38;5;28;43;01mTrue\u001b[39;49;00m\u001b[43m,\u001b[49m\u001b[43m \u001b[49m\u001b[43monly_lower_tri\u001b[49m\u001b[43m \u001b[49m\u001b[43m=\u001b[49m\u001b[43m \u001b[49m\u001b[38;5;28;43;01mTrue\u001b[39;49;00m\u001b[43m)\u001b[49m\n\u001b[32m     12\u001b[39m \u001b[38;5;66;03m#chunk_n = 1000\u001b[39;00m\n\u001b[32m     13\u001b[39m \u001b[38;5;66;03m#res = TCRdist_batch(tcr1, tcr2, submat = submat, tcrdist_cutoff=90, output = \"edge_list\", chunk_size=chunk_n, print_chunk_size=chunk_n, print_res = True)\u001b[39;00m\n",
      "\u001b[36mFile \u001b[39m\u001b[32m~/git/TCRdist_gpu/TCRdist_gpu/TCRdist_gpu.py:353\u001b[39m, in \u001b[36mTCRdist_batch2\u001b[39m\u001b[34m(tcr1, submat, params_df, tcr2, tcrdist_cutoff, chunk_size, print_chunk_size, print_res, only_lower_tri)\u001b[39m\n\u001b[32m    351\u001b[39m     row_range1 = \u001b[38;5;28mslice\u001b[39m(ch, chunk_end)\n\u001b[32m    352\u001b[39m     tcr1_tmp = tcr1_mx[row_range1,:]\n\u001b[32m--> \u001b[39m\u001b[32m353\u001b[39m     edges_tmp = \u001b[43mTCRdist_inner2\u001b[49m\u001b[43m(\u001b[49m\u001b[43mtcr1\u001b[49m\u001b[43m=\u001b[49m\u001b[43mtcr1_tmp\u001b[49m\u001b[43m,\u001b[49m\u001b[43m \u001b[49m\u001b[43mtcr2\u001b[49m\u001b[43m=\u001b[49m\u001b[43mtcr2_mx\u001b[49m\u001b[43m,\u001b[49m\u001b[43m \u001b[49m\u001b[43msubmat\u001b[49m\u001b[43m=\u001b[49m\u001b[43msubmat\u001b[49m\u001b[43m,\u001b[49m\n\u001b[32m    354\u001b[39m \u001b[43m                                   \u001b[49m\u001b[43mtcrdist_cutoff\u001b[49m\u001b[43m=\u001b[49m\u001b[43mtcrdist_cutoff\u001b[49m\u001b[43m,\u001b[49m\n\u001b[32m    355\u001b[39m \u001b[43m                                   \u001b[49m\u001b[43mch1\u001b[49m\u001b[43m=\u001b[49m\u001b[43mch\u001b[49m\u001b[43m,\u001b[49m\u001b[43m \u001b[49m\u001b[43moutput\u001b[49m\u001b[43m=\u001b[49m\u001b[33;43m\"\u001b[39;49m\u001b[33;43medge_list\u001b[39;49m\u001b[33;43m\"\u001b[39;49m\u001b[43m,\u001b[49m\u001b[43m \u001b[49m\n\u001b[32m    356\u001b[39m \u001b[43m                                   \u001b[49m\u001b[43monly_lower_tri\u001b[49m\u001b[43m \u001b[49m\u001b[43m=\u001b[49m\u001b[43m \u001b[49m\u001b[43monly_lower_tri\u001b[49m\u001b[43m,\u001b[49m\n\u001b[32m    357\u001b[39m \u001b[43m                                   \u001b[49m\u001b[43mcompare_to_self\u001b[49m\u001b[43m \u001b[49m\u001b[43m=\u001b[49m\u001b[43m \u001b[49m\u001b[43mcompare_to_self\u001b[49m\u001b[43m)\u001b[49m\n\u001b[32m    358\u001b[39m     res_list.append(edges_tmp)\n\u001b[32m    360\u001b[39m res = pd.concat(res_list)\n",
      "\u001b[36mFile \u001b[39m\u001b[32m~/git/TCRdist_gpu/TCRdist_gpu/TCRdist_gpu.py:399\u001b[39m, in \u001b[36mTCRdist_inner2\u001b[39m\u001b[34m(tcr1, tcr2, submat, tcrdist_cutoff, ch1, output, only_lower_tri, compare_to_self)\u001b[39m\n\u001b[32m    395\u001b[39m     score_dtype = np.int32\n\u001b[32m    396\u001b[39m     \u001b[38;5;66;03m#if tcrdist_cutoff <= 255:\u001b[39;00m\n\u001b[32m    397\u001b[39m     \u001b[38;5;66;03m#    score_dtype = np.uint16\u001b[39;00m\n\u001b[32m    398\u001b[39m     \u001b[38;5;66;03m### convert matrix to sparse (gets rid of all zero values)\u001b[39;00m\n\u001b[32m--> \u001b[39m\u001b[32m399\u001b[39m     result_sparse = \u001b[43mscipy\u001b[49m\u001b[43m.\u001b[49m\u001b[43msparse\u001b[49m\u001b[43m.\u001b[49m\u001b[43mcsr_matrix\u001b[49m\u001b[43m(\u001b[49m\u001b[43mresult\u001b[49m\u001b[43m,\u001b[49m\u001b[43m \u001b[49m\u001b[43mdtype\u001b[49m\u001b[43m \u001b[49m\u001b[43m=\u001b[49m\u001b[43m \u001b[49m\u001b[43mscore_dtype\u001b[49m\u001b[43m)\u001b[49m\n\u001b[32m    400\u001b[39m \u001b[38;5;28;01mif\u001b[39;00m output \u001b[38;5;129;01min\u001b[39;00m [\u001b[33m\"\u001b[39m\u001b[33medge_list\u001b[39m\u001b[33m\"\u001b[39m, \u001b[33m\"\u001b[39m\u001b[33mboth\u001b[39m\u001b[33m\"\u001b[39m]:\n\u001b[32m    401\u001b[39m     \u001b[38;5;66;03m### convert matrix to dataframe with indices and TCRdist values\u001b[39;00m\n\u001b[32m    402\u001b[39m     coo_mat = result_sparse.tocoo()\n",
      "\u001b[36mFile \u001b[39m\u001b[32m~/miniforge3/envs/nick_main/lib/python3.12/site-packages/scipy/sparse/_compressed.py:85\u001b[39m, in \u001b[36m_cs_matrix.__init__\u001b[39m\u001b[34m(self, arg1, shape, dtype, copy, maxprint)\u001b[39m\n\u001b[32m     82\u001b[39m \u001b[38;5;28;01melse\u001b[39;00m:\n\u001b[32m     83\u001b[39m     \u001b[38;5;66;03m# must be dense\u001b[39;00m\n\u001b[32m     84\u001b[39m     \u001b[38;5;28;01mtry\u001b[39;00m:\n\u001b[32m---> \u001b[39m\u001b[32m85\u001b[39m         arg1 = \u001b[43mnp\u001b[49m\u001b[43m.\u001b[49m\u001b[43masarray\u001b[49m\u001b[43m(\u001b[49m\u001b[43marg1\u001b[49m\u001b[43m)\u001b[49m\n\u001b[32m     86\u001b[39m     \u001b[38;5;28;01mexcept\u001b[39;00m \u001b[38;5;167;01mException\u001b[39;00m \u001b[38;5;28;01mas\u001b[39;00m e:\n\u001b[32m     87\u001b[39m         \u001b[38;5;28;01mraise\u001b[39;00m \u001b[38;5;167;01mValueError\u001b[39;00m(\u001b[33mf\u001b[39m\u001b[33m\"\u001b[39m\u001b[33munrecognized \u001b[39m\u001b[38;5;132;01m{\u001b[39;00m\u001b[38;5;28mself\u001b[39m.\u001b[34m__class__\u001b[39m.\u001b[34m__name__\u001b[39m\u001b[38;5;132;01m}\u001b[39;00m\u001b[33m \u001b[39m\u001b[33m\"\u001b[39m\n\u001b[32m     88\u001b[39m                          \u001b[33mf\u001b[39m\u001b[33m\"\u001b[39m\u001b[33mconstructor input: \u001b[39m\u001b[38;5;132;01m{\u001b[39;00marg1\u001b[38;5;132;01m}\u001b[39;00m\u001b[33m\"\u001b[39m) \u001b[38;5;28;01mfrom\u001b[39;00m\u001b[38;5;250m \u001b[39m\u001b[34;01me\u001b[39;00m\n",
      "\u001b[31mKeyboardInterrupt\u001b[39m: "
     ]
    }
   ],
   "source": [
    "#### testing speeds (current batching script)\n",
    "from TCRdist_gpu import *\n",
    "tcr_both = pd.read_parquet(os.path.join(\"data\", \"vdj_and_covid_032425.parquet\"))\n",
    "tcr1 = tcr_both[:4000]\n",
    "tcr2 = tcr_both\n",
    "print(tcr2.shape)\n",
    "params_df, _ = load_params_file()\n",
    "#submat = np.loadtxt(os.path.join(\"data\", 'TCRdist_matrix_mega.tsv'), delimiter='\\t', dtype=np.int16)\n",
    "submat = load_substitution_matrix()\n",
    "chunk_n = 100\n",
    "res = TCRdist_batch2(tcr1 = tcr1, tcr2 = tcr2, submat = submat, params_df = params_df, tcrdist_cutoff=90,chunk_size=chunk_n, print_chunk_size=chunk_n, print_res = True, only_lower_tri = True)\n",
    "#chunk_n = 1000\n",
    "#res = TCRdist_batch(tcr1, tcr2, submat = submat, tcrdist_cutoff=90, output = \"edge_list\", chunk_size=chunk_n, print_chunk_size=chunk_n, print_res = True)"
   ]
  },
  {
   "cell_type": "code",
   "execution_count": null,
   "id": "b6030003",
   "metadata": {},
   "outputs": [
    {
     "name": "stdout",
     "output_type": "stream",
     "text": [
      "array([[0, 287, 251, ..., 318, 354, 327],\n",
      "       [287, 0, 275, ..., 323, 409, 271],\n",
      "       [251, 275, 0, ..., 281, 356, 235],\n",
      "       ...,\n",
      "       [318, 323, 281, ..., 0, 360, 297],\n",
      "       [354, 409, 356, ..., 360, 0, 311],\n",
      "       [327, 271, 235, ..., 297, 311, 0]], dtype=int32)\n",
      "Time taken: 0.000020 seconds\n",
      "total number of chunks (rows): 3\n",
      "total number of chunks (cols): 3\n",
      "Processing chunk (rows) 0\n",
      "Processing chunk (rows) 1000\n",
      "Processing chunk (rows) 2000\n",
      "Processing chunk (rows) 3000\n",
      "Time taken: 0.141346 seconds\n",
      "True\n",
      "array([[0, 287, 251, ..., 319, 289, 324],\n",
      "       [287, 0, 275, ..., 291, 215, 313],\n",
      "       [251, 275, 0, ..., 235, 267, 274],\n",
      "       ...,\n",
      "       [319, 291, 235, ..., 0, 261, 302],\n",
      "       [289, 215, 267, ..., 261, 0, 248],\n",
      "       [324, 313, 274, ..., 302, 248, 0]], dtype=int32)\n",
      "Time taken: 0.000020 seconds\n",
      "total number of chunks (rows): 5\n",
      "total number of chunks (cols): 5\n",
      "Processing chunk (rows) 0\n",
      "Processing chunk (rows) 1000\n",
      "Processing chunk (rows) 2000\n",
      "Processing chunk (rows) 3000\n",
      "Processing chunk (rows) 4000\n",
      "Time taken: 0.098914 seconds\n",
      "True\n",
      "array([[0, 287, 251, ..., 303, 276, 341],\n",
      "       [287, 0, 275, ..., 290, 251, 293],\n",
      "       [251, 275, 0, ..., 234, 292, 327],\n",
      "       ...,\n",
      "       [303, 290, 234, ..., 0, 266, 360],\n",
      "       [276, 251, 292, ..., 266, 0, 293],\n",
      "       [341, 293, 327, ..., 360, 293, 0]], dtype=int32)\n",
      "Time taken: 0.000016 seconds\n",
      "total number of chunks (rows): 4\n",
      "total number of chunks (cols): 4\n",
      "Processing chunk (rows) 0\n",
      "Processing chunk (rows) 1000\n",
      "Processing chunk (rows) 2000\n",
      "Processing chunk (rows) 3000\n",
      "Processing chunk (rows) 4000\n",
      "Time taken: 0.067820 seconds\n",
      "True\n"
     ]
    }
   ],
   "source": [
    "### checking that batching gives the correct results\n",
    "from TCRdist_gpu import *\n",
    "## load data\n",
    "tcr_both = pd.read_parquet(os.path.join(\"data\", \"vdj_and_covid_032425.parquet\"))\n",
    "params_df, _ = load_params_file()\n",
    "submat = load_substitution_matrix()\n",
    "\n",
    "### 2 sets of TCRs\n",
    "# print(check_batch(tcr1 = tcr_both[:2000], tcr2 = tcr_both[5000:7000], submat = submat, params_df = params_df, tcrdist_cutoff = 90))\n",
    "# print(check_batch(tcr1 = tcr_both[:579], tcr2 = tcr_both[5000:10001], submat = submat, params_df = params_df, tcrdist_cutoff = 90))\n",
    "\n",
    "### set of TCRs against themselves\n",
    "# print(check_batch(tcr1 = tcr_both[:2000], submat = submat, params_df = params_df, tcrdist_cutoff = 90))\n",
    "# print(check_batch(tcr1 = tcr_both[:781], submat = submat, params_df = params_df, tcrdist_cutoff = 120))\n",
    "# print(check_batch(tcr1 = tcr_both[:1000], submat = submat, params_df = params_df, tcrdist_cutoff = np.inf))\n",
    "\n",
    "# print(check_batch(tcr1 = tcr_both[:3021], submat = submat, params_df = params_df, tcrdist_cutoff = np.inf))\n",
    "# print(check_batch(tcr1 = tcr_both[:5000], submat = submat, params_df = params_df, tcrdist_cutoff = 120))\n",
    "# print(check_batch(tcr1 = tcr_both[:4001], submat = submat, params_df = params_df, tcrdist_cutoff = 90))\n",
    "\n"
   ]
  }
 ],
 "metadata": {
  "kernelspec": {
   "display_name": "nick_main",
   "language": "python",
   "name": "python3"
  },
  "language_info": {
   "codemirror_mode": {
    "name": "ipython",
    "version": 3
   },
   "file_extension": ".py",
   "mimetype": "text/x-python",
   "name": "python",
   "nbconvert_exporter": "python",
   "pygments_lexer": "ipython3",
   "version": "3.12.9"
  }
 },
 "nbformat": 4,
 "nbformat_minor": 5
}
