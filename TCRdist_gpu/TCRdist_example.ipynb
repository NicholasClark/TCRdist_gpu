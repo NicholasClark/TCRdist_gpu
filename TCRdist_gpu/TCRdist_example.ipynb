{
 "cells": [
  {
   "cell_type": "code",
   "execution_count": null,
   "id": "81ceb946-fa1a-4350-936a-adddf0d4edb6",
   "metadata": {},
   "outputs": [],
   "source": [
    "from TCRdist_gpu import *"
   ]
  },
  {
   "cell_type": "code",
   "execution_count": null,
   "id": "9b7b893e-af14-4a09-b0ba-d8ec9e26cfb1",
   "metadata": {},
   "outputs": [],
   "source": [
    "#tcr1 = ## read data frame here\n",
    "params_df, _ = load_params_file()\n",
    "submat = load_substitution_matrix()"
   ]
  },
  {
   "cell_type": "code",
   "execution_count": null,
   "id": "8644d4ff-6be0-4a3d-96f6-93aba0e12081",
   "metadata": {},
   "outputs": [],
   "source": [
    "## Return a dictionary with items:\n",
    "### 'TCRdist_df' (data frame, edges w/ TCRdist less than cutoff)\n",
    "### 'tcr1' (tcr1 data frame)\n",
    "### 'tcr2' (tcr2 data frame, if supplied)\n",
    "\n",
    "res = TCRdist_batch(tcr1=tcr1, tcr2 = None, submat = submat, params_df = params_df, tcrdist_cutoff=90, chunk_size=1000)"
   ]
  },
  {
   "cell_type": "code",
   "execution_count": null,
   "id": "1c89efdd-35c1-415c-868c-8f8081a5503d",
   "metadata": {},
   "outputs": [],
   "source": [
    "## Or write to a tab-separated .tsv file to directory \"output_folder\":\n",
    "### 'TCRdist_df.tsv' (data frame, edges w/ TCRdist less than cutoff)\n",
    "### 'tcr1.tsv' (tcr1 data frame)\n",
    "### 'tcr2.tsv' (tcr2 data frame, if supplied)\n",
    "\n",
    "TCRdist_batch(tcr1=tcr1, tcr2 = None, submat = submat, params_df = params_df, tcrdist_cutoff=90, chunk_size=1000, write_to_tsv=False, output_folder = \".\", return_data = False)"
   ]
  }
 ],
 "metadata": {
  "kernelspec": {
   "display_name": "Python [conda env:nick_main] *",
   "language": "python",
   "name": "conda-env-nick_main-py"
  },
  "language_info": {
   "codemirror_mode": {
    "name": "ipython",
    "version": 3
   },
   "file_extension": ".py",
   "mimetype": "text/x-python",
   "name": "python",
   "nbconvert_exporter": "python",
   "pygments_lexer": "ipython3",
   "version": "3.12.9"
  }
 },
 "nbformat": 4,
 "nbformat_minor": 5
}
